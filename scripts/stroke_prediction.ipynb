{
 "cells": [
  {
   "cell_type": "markdown",
   "id": "d29019de",
   "metadata": {},
   "source": [
    "# Projeto de Previsão de Acidente Vascular Cerebral (AVC) com Python\n",
    "Este notebook realiza a análise completa para a construção e avaliação de um modelo preditivo de AVC, seguindo a rubrica de Machine Learning para a área da saúde."
   ]
  },
  {
   "cell_type": "markdown",
   "id": "9bfdc687",
   "metadata": {},
   "source": [
    "# Tarefa Um: Importação de dados e pré-processamento de dados\n",
    "O objetivo é limpar os dados, tratar os valores ausentes e entender as relações entre as variáveis."
   ]
  },
  {
   "cell_type": "markdown",
   "id": "26e26b05",
   "metadata": {},
   "source": [
    "## 1 - Carregar dados e instalar pacotes"
   ]
  },
  {
   "cell_type": "code",
   "execution_count": 87,
   "id": "936d1086",
   "metadata": {},
   "outputs": [
    {
     "name": "stdout",
     "output_type": "stream",
     "text": [
      "--- Primeiras 5 linhas do Dataset ---\n"
     ]
    },
    {
     "data": {
      "text/html": [
       "<div>\n",
       "<style scoped>\n",
       "    .dataframe tbody tr th:only-of-type {\n",
       "        vertical-align: middle;\n",
       "    }\n",
       "\n",
       "    .dataframe tbody tr th {\n",
       "        vertical-align: top;\n",
       "    }\n",
       "\n",
       "    .dataframe thead th {\n",
       "        text-align: right;\n",
       "    }\n",
       "</style>\n",
       "<table border=\"1\" class=\"dataframe\">\n",
       "  <thead>\n",
       "    <tr style=\"text-align: right;\">\n",
       "      <th></th>\n",
       "      <th>id</th>\n",
       "      <th>gender</th>\n",
       "      <th>age</th>\n",
       "      <th>hypertension</th>\n",
       "      <th>heart_disease</th>\n",
       "      <th>ever_married</th>\n",
       "      <th>work_type</th>\n",
       "      <th>Residence_type</th>\n",
       "      <th>avg_glucose_level</th>\n",
       "      <th>bmi</th>\n",
       "      <th>smoking_status</th>\n",
       "      <th>stroke</th>\n",
       "    </tr>\n",
       "  </thead>\n",
       "  <tbody>\n",
       "    <tr>\n",
       "      <th>0</th>\n",
       "      <td>9046</td>\n",
       "      <td>Male</td>\n",
       "      <td>67.0</td>\n",
       "      <td>0</td>\n",
       "      <td>1</td>\n",
       "      <td>Yes</td>\n",
       "      <td>Private</td>\n",
       "      <td>Urban</td>\n",
       "      <td>228.69</td>\n",
       "      <td>36.6</td>\n",
       "      <td>formerly smoked</td>\n",
       "      <td>1</td>\n",
       "    </tr>\n",
       "    <tr>\n",
       "      <th>1</th>\n",
       "      <td>51676</td>\n",
       "      <td>Female</td>\n",
       "      <td>61.0</td>\n",
       "      <td>0</td>\n",
       "      <td>0</td>\n",
       "      <td>Yes</td>\n",
       "      <td>Self-employed</td>\n",
       "      <td>Rural</td>\n",
       "      <td>202.21</td>\n",
       "      <td>NaN</td>\n",
       "      <td>never smoked</td>\n",
       "      <td>1</td>\n",
       "    </tr>\n",
       "    <tr>\n",
       "      <th>2</th>\n",
       "      <td>31112</td>\n",
       "      <td>Male</td>\n",
       "      <td>80.0</td>\n",
       "      <td>0</td>\n",
       "      <td>1</td>\n",
       "      <td>Yes</td>\n",
       "      <td>Private</td>\n",
       "      <td>Rural</td>\n",
       "      <td>105.92</td>\n",
       "      <td>32.5</td>\n",
       "      <td>never smoked</td>\n",
       "      <td>1</td>\n",
       "    </tr>\n",
       "    <tr>\n",
       "      <th>3</th>\n",
       "      <td>60182</td>\n",
       "      <td>Female</td>\n",
       "      <td>49.0</td>\n",
       "      <td>0</td>\n",
       "      <td>0</td>\n",
       "      <td>Yes</td>\n",
       "      <td>Private</td>\n",
       "      <td>Urban</td>\n",
       "      <td>171.23</td>\n",
       "      <td>34.4</td>\n",
       "      <td>smokes</td>\n",
       "      <td>1</td>\n",
       "    </tr>\n",
       "    <tr>\n",
       "      <th>4</th>\n",
       "      <td>1665</td>\n",
       "      <td>Female</td>\n",
       "      <td>79.0</td>\n",
       "      <td>1</td>\n",
       "      <td>0</td>\n",
       "      <td>Yes</td>\n",
       "      <td>Self-employed</td>\n",
       "      <td>Rural</td>\n",
       "      <td>174.12</td>\n",
       "      <td>24.0</td>\n",
       "      <td>never smoked</td>\n",
       "      <td>1</td>\n",
       "    </tr>\n",
       "  </tbody>\n",
       "</table>\n",
       "</div>"
      ],
      "text/plain": [
       "      id  gender   age  hypertension  heart_disease ever_married  \\\n",
       "0   9046    Male  67.0             0              1          Yes   \n",
       "1  51676  Female  61.0             0              0          Yes   \n",
       "2  31112    Male  80.0             0              1          Yes   \n",
       "3  60182  Female  49.0             0              0          Yes   \n",
       "4   1665  Female  79.0             1              0          Yes   \n",
       "\n",
       "       work_type Residence_type  avg_glucose_level   bmi   smoking_status  \\\n",
       "0        Private          Urban             228.69  36.6  formerly smoked   \n",
       "1  Self-employed          Rural             202.21   NaN     never smoked   \n",
       "2        Private          Rural             105.92  32.5     never smoked   \n",
       "3        Private          Urban             171.23  34.4           smokes   \n",
       "4  Self-employed          Rural             174.12  24.0     never smoked   \n",
       "\n",
       "   stroke  \n",
       "0       1  \n",
       "1       1  \n",
       "2       1  \n",
       "3       1  \n",
       "4       1  "
      ]
     },
     "metadata": {},
     "output_type": "display_data"
    }
   ],
   "source": [
    "# Importação das bibliotecas essenciais para Ciência de Dados em Python\n",
    "\n",
    "# Pandas: A biblioteca principal para carregar, manipular e limpar dados (nosso 'tidyverse' do Python)\n",
    "import pandas as pd \n",
    "# NumPy: Usado para operações numéricas e arrays\n",
    "import numpy as np \n",
    "# Matplotlib/Seaborn: Usados para visualização de dados (criação de gráficos). Seaborn é ótimo para estatística.\n",
    "import matplotlib.pyplot as plt\n",
    "import seaborn as sns\n",
    "\n",
    "# Sklearn: É a biblioteca padrão para Machine Learning em Python\n",
    "from sklearn.model_selection import train_test_split\n",
    "from imblearn.over_sampling import SMOTE \n",
    "from sklearn.preprocessing import StandardScaler, OneHotEncoder\n",
    "from sklearn.compose import ColumnTransformer\n",
    "from sklearn.pipeline import Pipeline\n",
    "from sklearn.linear_model import LogisticRegression\n",
    "from sklearn.ensemble import RandomForestClassifier\n",
    "from xgboost import XGBClassifier\n",
    "\n",
    "# Define o caminho do arquivo\n",
    "file_path = '../data/healthcare-dataset-stroke-data.csv'\n",
    "\n",
    "# Lê o arquivo CSV para um DataFrame do Pandas (df)\n",
    "df = pd.read_csv(file_path)\n",
    "\n",
    "# Mostra as primeiras 5 linhas para verificar se o carregamento funcionou\n",
    "print(\"--- Primeiras 5 linhas do Dataset ---\")\n",
    "display(df.head())"
   ]
  },
  {
   "cell_type": "markdown",
   "id": "d8092f09",
   "metadata": {},
   "source": [
    "### 1.1 Renomear Colunas (Para maior clareza)"
   ]
  },
  {
   "cell_type": "code",
   "execution_count": 88,
   "id": "7774f1af",
   "metadata": {},
   "outputs": [
    {
     "name": "stdout",
     "output_type": "stream",
     "text": [
      "Colunas renomeadas para Português. Novas 5 primeiras linhas:\n"
     ]
    },
    {
     "data": {
      "text/html": [
       "<div>\n",
       "<style scoped>\n",
       "    .dataframe tbody tr th:only-of-type {\n",
       "        vertical-align: middle;\n",
       "    }\n",
       "\n",
       "    .dataframe tbody tr th {\n",
       "        vertical-align: top;\n",
       "    }\n",
       "\n",
       "    .dataframe thead th {\n",
       "        text-align: right;\n",
       "    }\n",
       "</style>\n",
       "<table border=\"1\" class=\"dataframe\">\n",
       "  <thead>\n",
       "    <tr style=\"text-align: right;\">\n",
       "      <th></th>\n",
       "      <th>id</th>\n",
       "      <th>genero</th>\n",
       "      <th>idade</th>\n",
       "      <th>hipertensao</th>\n",
       "      <th>doenca_cardiaca</th>\n",
       "      <th>casado</th>\n",
       "      <th>tipo_trabalho</th>\n",
       "      <th>tipo_residencia</th>\n",
       "      <th>nivel_glicose_medio</th>\n",
       "      <th>imc</th>\n",
       "      <th>status_fumante</th>\n",
       "      <th>avc</th>\n",
       "    </tr>\n",
       "  </thead>\n",
       "  <tbody>\n",
       "    <tr>\n",
       "      <th>0</th>\n",
       "      <td>9046</td>\n",
       "      <td>Male</td>\n",
       "      <td>67.0</td>\n",
       "      <td>0</td>\n",
       "      <td>1</td>\n",
       "      <td>Yes</td>\n",
       "      <td>Private</td>\n",
       "      <td>Urban</td>\n",
       "      <td>228.69</td>\n",
       "      <td>36.6</td>\n",
       "      <td>formerly smoked</td>\n",
       "      <td>1</td>\n",
       "    </tr>\n",
       "    <tr>\n",
       "      <th>1</th>\n",
       "      <td>51676</td>\n",
       "      <td>Female</td>\n",
       "      <td>61.0</td>\n",
       "      <td>0</td>\n",
       "      <td>0</td>\n",
       "      <td>Yes</td>\n",
       "      <td>Self-employed</td>\n",
       "      <td>Rural</td>\n",
       "      <td>202.21</td>\n",
       "      <td>NaN</td>\n",
       "      <td>never smoked</td>\n",
       "      <td>1</td>\n",
       "    </tr>\n",
       "    <tr>\n",
       "      <th>2</th>\n",
       "      <td>31112</td>\n",
       "      <td>Male</td>\n",
       "      <td>80.0</td>\n",
       "      <td>0</td>\n",
       "      <td>1</td>\n",
       "      <td>Yes</td>\n",
       "      <td>Private</td>\n",
       "      <td>Rural</td>\n",
       "      <td>105.92</td>\n",
       "      <td>32.5</td>\n",
       "      <td>never smoked</td>\n",
       "      <td>1</td>\n",
       "    </tr>\n",
       "    <tr>\n",
       "      <th>3</th>\n",
       "      <td>60182</td>\n",
       "      <td>Female</td>\n",
       "      <td>49.0</td>\n",
       "      <td>0</td>\n",
       "      <td>0</td>\n",
       "      <td>Yes</td>\n",
       "      <td>Private</td>\n",
       "      <td>Urban</td>\n",
       "      <td>171.23</td>\n",
       "      <td>34.4</td>\n",
       "      <td>smokes</td>\n",
       "      <td>1</td>\n",
       "    </tr>\n",
       "    <tr>\n",
       "      <th>4</th>\n",
       "      <td>1665</td>\n",
       "      <td>Female</td>\n",
       "      <td>79.0</td>\n",
       "      <td>1</td>\n",
       "      <td>0</td>\n",
       "      <td>Yes</td>\n",
       "      <td>Self-employed</td>\n",
       "      <td>Rural</td>\n",
       "      <td>174.12</td>\n",
       "      <td>24.0</td>\n",
       "      <td>never smoked</td>\n",
       "      <td>1</td>\n",
       "    </tr>\n",
       "  </tbody>\n",
       "</table>\n",
       "</div>"
      ],
      "text/plain": [
       "      id  genero  idade  hipertensao  doenca_cardiaca casado  tipo_trabalho  \\\n",
       "0   9046    Male   67.0            0                1    Yes        Private   \n",
       "1  51676  Female   61.0            0                0    Yes  Self-employed   \n",
       "2  31112    Male   80.0            0                1    Yes        Private   \n",
       "3  60182  Female   49.0            0                0    Yes        Private   \n",
       "4   1665  Female   79.0            1                0    Yes  Self-employed   \n",
       "\n",
       "  tipo_residencia  nivel_glicose_medio   imc   status_fumante  avc  \n",
       "0           Urban               228.69  36.6  formerly smoked    1  \n",
       "1           Rural               202.21   NaN     never smoked    1  \n",
       "2           Rural               105.92  32.5     never smoked    1  \n",
       "3           Urban               171.23  34.4           smokes    1  \n",
       "4           Rural               174.12  24.0     never smoked    1  "
      ]
     },
     "metadata": {},
     "output_type": "display_data"
    }
   ],
   "source": [
    "# Dicionário de mapeamento: De Inglês (Original) para Português (Novo)\n",
    "# Estamos sendo explícitos para garantir que cada coluna seja encontrada corretamente.\n",
    "colunas_renomeadas = {\n",
    "    'id': 'id', # Mesmo que removida depois, mapeamos por segurança\n",
    "    'gender': 'genero',\n",
    "    'age': 'idade',\n",
    "    'hypertension': 'hipertensao',\n",
    "    'heart_disease': 'doenca_cardiaca',\n",
    "    'ever_married': 'casado',\n",
    "    'work_type': 'tipo_trabalho',\n",
    "    'Residence_type': 'tipo_residencia',\n",
    "    'avg_glucose_level': 'nivel_glicose_medio',\n",
    "    'bmi': 'imc',\n",
    "    'smoking_status': 'status_fumante',\n",
    "    'stroke': 'avc' # Nossa variável alvo\n",
    "}\n",
    "\n",
    "# Renomeia as colunas do DataFrame (df)\n",
    "df = df.rename(columns=colunas_renomeadas)\n",
    "\n",
    "print(\"Colunas renomeadas para Português. Novas 5 primeiras linhas:\")\n",
    "# Exibe as 5 primeiras linhas com os novos nomes\n",
    "display(df.head())"
   ]
  },
  {
   "cell_type": "markdown",
   "id": "d802b75f",
   "metadata": {},
   "source": [
    "## 2 - Descreva e explore os dados"
   ]
  },
  {
   "cell_type": "code",
   "execution_count": 89,
   "id": "919383e2",
   "metadata": {},
   "outputs": [
    {
     "name": "stdout",
     "output_type": "stream",
     "text": [
      "Coluna 'id' removida (se existia).\n",
      "\n",
      "--- Estrutura e Tipos de Dados ---\n",
      "<class 'pandas.core.frame.DataFrame'>\n",
      "RangeIndex: 5110 entries, 0 to 5109\n",
      "Data columns (total 11 columns):\n",
      " #   Column               Non-Null Count  Dtype  \n",
      "---  ------               --------------  -----  \n",
      " 0   genero               5110 non-null   object \n",
      " 1   idade                5110 non-null   float64\n",
      " 2   hipertensao          5110 non-null   int64  \n",
      " 3   doenca_cardiaca      5110 non-null   int64  \n",
      " 4   casado               5110 non-null   object \n",
      " 5   tipo_trabalho        5110 non-null   object \n",
      " 6   tipo_residencia      5110 non-null   object \n",
      " 7   nivel_glicose_medio  5110 non-null   float64\n",
      " 8   imc                  4909 non-null   float64\n",
      " 9   status_fumante       5110 non-null   object \n",
      " 10  avc                  5110 non-null   int64  \n",
      "dtypes: float64(3), int64(3), object(5)\n",
      "memory usage: 439.3+ KB\n",
      "\n",
      "--- Contagem de Valores Ausentes (NA) ---\n",
      "genero                   0\n",
      "idade                    0\n",
      "hipertensao              0\n",
      "doenca_cardiaca          0\n",
      "casado                   0\n",
      "tipo_trabalho            0\n",
      "tipo_residencia          0\n",
      "nivel_glicose_medio      0\n",
      "imc                    201\n",
      "status_fumante           0\n",
      "avc                      0\n",
      "dtype: int64\n"
     ]
    }
   ],
   "source": [
    "# Tenta remover a coluna 'id', que não é útil para previsão.\n",
    "# A coluna 'id' não tem nome em português no mapeamento, mas ela pode ter sido a coluna que\n",
    "# o Pandas usou como índice, então tentamos remover o nome original 'id' por segurança.\n",
    "try:\n",
    "    df = df.drop('id', axis=1, errors='ignore')\n",
    "    print(\"Coluna 'id' removida (se existia).\")\n",
    "except KeyError:\n",
    "    print(\"A coluna 'id' não foi encontrada, seguindo com o DataFrame.\")\n",
    "\n",
    "\n",
    "# --- EXPLORAÇÃO INICIAL: Estrutura e Tipos de Dados ---\n",
    "print(\"\\n--- Estrutura e Tipos de Dados ---\")\n",
    "# .info() exibe os tipos de dados e a contagem de valores não-nulos.\n",
    "df.info()\n",
    "\n",
    "# --- VERIFICAÇÃO DE VALORES AUSENTES (NA) ---\n",
    "# .isnull().sum() verifica se há NAs e quantos.\n",
    "print(\"\\n--- Contagem de Valores Ausentes (NA) ---\")\n",
    "# Esperamos 201 NAs na coluna 'imc'\n",
    "print(df.isnull().sum())"
   ]
  },
  {
   "cell_type": "markdown",
   "id": "d60ed27b",
   "metadata": {},
   "source": [
    "## 3 - Limpeza e Imputação de Dados\n",
    "Esta seção aborda o tratamento dos valores ausentes (NaN) encontrados na coluna 'bmi' e a limpeza final dos dados antes da Análise Exploratória (EDA)."
   ]
  },
  {
   "cell_type": "code",
   "execution_count": 90,
   "id": "0c857c03",
   "metadata": {},
   "outputs": [
    {
     "name": "stdout",
     "output_type": "stream",
     "text": [
      "Mediana de IMC a ser usada na imputação: 28.10\n",
      "\n",
      "--- Contagem de Valores Ausentes (NA) após Imputação ---\n",
      "genero                 0\n",
      "idade                  0\n",
      "hipertensao            0\n",
      "doenca_cardiaca        0\n",
      "casado                 0\n",
      "tipo_trabalho          0\n",
      "tipo_residencia        0\n",
      "nivel_glicose_medio    0\n",
      "imc                    0\n",
      "status_fumante         0\n",
      "avc                    0\n",
      "dtype: int64\n",
      "\n",
      "Dimensões do Dataset após limpeza (deve ter uma linha a menos devido ao 'Other'):\n",
      "(5109, 11)\n"
     ]
    }
   ],
   "source": [
    "# --- 1. TRATAMENTO DO IMC (IMPUTAÇÃO PELA MEDIANA) ---\n",
    "\n",
    "# Calcula a mediana da coluna 'imc'\n",
    "median_imc = df['imc'].median(skipna=True)\n",
    "\n",
    "print(f\"Mediana de IMC a ser usada na imputação: {median_imc:.2f}\")\n",
    "\n",
    "# Preenche (imputa) os valores ausentes (NaN) na coluna 'imc' com a mediana calculada.\n",
    "df['imc'] = df['imc'].fillna(median_imc)\n",
    "\n",
    "# --- 2. TRATAMENTO DE VARIÁVEIS CATEÓRICAS RARA ---\n",
    "\n",
    "# A coluna 'genero' tem um valor 'Other' (Outro) que é muito raro. \n",
    "# Removemos essa linha para evitar instabilidade no modelo.\n",
    "df = df[df['genero'] != 'Other']\n",
    "\n",
    "# --- 3. RE-VERIFICAÇÃO ---\n",
    "# Confirma se todos os NAs foram tratados.\n",
    "\n",
    "print(\"\\n--- Contagem de Valores Ausentes (NA) após Imputação ---\")\n",
    "print(df.isnull().sum())\n",
    "print(\"\\nDimensões do Dataset após limpeza (deve ter uma linha a menos devido ao 'Other'):\")\n",
    "print(df.shape)"
   ]
  },
  {
   "cell_type": "markdown",
   "id": "c332b4ad",
   "metadata": {},
   "source": [
    "### 3.1 - Análise Exploratória de Dados (EDA): Visualizações\n",
    "A EDA visa identificar as características clínicas e/ou do paciente mais importantes na previsão de AVC, usando a variável alvo 'stroke'."
   ]
  },
  {
   "cell_type": "code",
   "execution_count": 91,
   "id": "5e0c2713",
   "metadata": {},
   "outputs": [
    {
     "data": {
      "image/png": "[encoded data removed]",
      "text/plain": [
       "<Figure size 800x500 with 1 Axes>"
      ]
     },
     "metadata": {},
     "output_type": "display_data"
    },
    {
     "data": {
      "image/png": "[encoded data removed]",
      "text/plain": [
       "<Figure size 1200x800 with 4 Axes>"
      ]
     },
     "metadata": {},
     "output_type": "display_data"
    }
   ],
   "source": [
    "# --- VISUALIZAÇÃO 1: Relação entre Idade e AVC (avc) ---\n",
    "\n",
    "plt.figure(figsize=(8, 5))\n",
    "# kdeplot (Densidade): Compara a distribuição da 'idade' para quem teve AVC (1) e quem não teve (0)\n",
    "sns.kdeplot(data=df, x='idade', hue='avc', fill=True, palette={0: '#56B4E9', 1: '#E69F00'})\n",
    "plt.title('Distribuição da Idade por Ocorrência de AVC', fontsize=14)\n",
    "plt.xlabel('Idade (Anos)')\n",
    "plt.ylabel('Densidade')\n",
    "plt.legend(title='Teve AVC?', labels=['Não', 'Sim'])\n",
    "plt.show()\n",
    "\n",
    "# --- VISUALIZAÇÃO 2: Risco de AVC por Fatores Categóricos Chave ---\n",
    "\n",
    "# Cria gráficos de barras para comparar as proporções de AVC em variáveis chave\n",
    "fig, axes = plt.subplots(nrows=2, ncols=2, figsize=(12, 8))\n",
    "fig.suptitle('Proporção de Casos de AVC por Condição', fontsize=16)\n",
    "\n",
    "# Variáveis categóricas para plotar (usando os novos nomes em português)\n",
    "categorical_cols = ['hipertensao', 'doenca_cardiaca', 'status_fumante', 'casado']\n",
    "\n",
    "for i, col in enumerate(categorical_cols):\n",
    "    row = i // 2\n",
    "    col_ = i % 2\n",
    "    \n",
    "    # countplot: Gráfico que mostra a contagem de casos de AVC (1) e Não-AVC (0)\n",
    "    sns.countplot(data=df, x=col, hue='avc', palette={0: '#56B4E9', 1: '#E69F00'}, ax=axes[row, col_])\n",
    "    axes[row, col_].set_title(f'AVC vs. {col.replace(\"_\", \" \").title()}')\n",
    "    axes[row, col_].legend(title='Teve AVC?', labels=['Não', 'Sim'])\n",
    "    axes[row, col_].set_xlabel(col.replace(\"_\", \" \").title())\n",
    "    axes[row, col_].set_ylabel('Contagem')\n",
    "\n",
    "plt.tight_layout(rect=[0, 0.03, 1, 0.95]) # Ajusta o layout\n",
    "plt.show()"
   ]
  },
  {
   "cell_type": "markdown",
   "id": "0be866a1",
   "metadata": {},
   "source": [
    "# Tarefa Dois: Construir modelos de previsão\n",
    "O objetivo é preparar os dados para o aprendizado de máquina e treinar os modelos."
   ]
  },
  {
   "cell_type": "markdown",
   "id": "7c9c5c0b",
   "metadata": {},
   "source": [
    "## 4 - Particionamento e Preparação dos Dados"
   ]
  },
  {
   "cell_type": "markdown",
   "id": "4546cc75",
   "metadata": {},
   "source": [
    "### 4.1 - Divisão em Treino e Teste (Estratificada)\n",
    "Separar X e y em 80% treino e 20% teste (stratify=y)."
   ]
  },
  {
   "cell_type": "code",
   "execution_count": 92,
   "id": "a904daed",
   "metadata": {},
   "outputs": [
    {
     "name": "stdout",
     "output_type": "stream",
     "text": [
      "Dimensões de Treinamento (X, y): (4087, 9), (4087,)\n",
      "Dimensões de Teste (X, y): (1022, 9), (1022,)\n",
      "\n",
      "Proporção de AVC (1) no Treino:\n",
      "avc\n",
      "0    0.951309\n",
      "1    0.048691\n",
      "Name: proportion, dtype: float64\n"
     ]
    }
   ],
   "source": [
    "### 4.1 Divisão em Treino e Teste (Estratificada)\n",
    "\n",
    "# 1. Limpeza Final e Separação de Variáveis\n",
    "# Remove a variável alvo 'avc' e a variável 'genero' (que removemos anteriormente por instabilidade).\n",
    "X = df.drop(columns=['avc', 'genero'], errors='ignore') \n",
    "y = df['avc'] \n",
    "\n",
    "# 2. Particionamento em Treino e Teste\n",
    "# stratify=y garante a amostragem ESTRATIFICADA (proporção de AVC mantida).\n",
    "X_train, X_test, y_train, y_test = train_test_split(\n",
    "    X, y, test_size=0.2, random_state=42, stratify=y\n",
    ")\n",
    "\n",
    "print(f\"Dimensões de Treinamento (X, y): {X_train.shape}, {y_train.shape}\")\n",
    "print(f\"Dimensões de Teste (X, y): {X_test.shape}, {y_test.shape}\")\n",
    "print(\"\\nProporção de AVC (1) no Treino:\")\n",
    "print(y_train.value_counts(normalize=True))"
   ]
  },
  {
   "cell_type": "markdown",
   "id": "888cc2f8",
   "metadata": {},
   "source": [
    "### 4.2 - Pré-processamento Automatizado e Balanceamento (SMOTE)\n",
    "Usaremos um Pipeline para garantir que as transformações de dados (padronização e One-Hot Encoding) sejam aplicadas corretamente e de forma consistente."
   ]
  },
  {
   "cell_type": "code",
   "execution_count": 93,
   "id": "951a0b8f",
   "metadata": {},
   "outputs": [
    {
     "name": "stdout",
     "output_type": "stream",
     "text": [
      "\n",
      "--- Resultado do Balanceamento SMOTE ---\n",
      "Dimensões do Treino após SMOTE: (7776, 14)\n",
      "Proporção de AVC (1) no Treino após SMOTE (DEVE SER 50%):\n",
      "avc\n",
      "0    0.5\n",
      "1    0.5\n",
      "Name: proportion, dtype: float64\n"
     ]
    }
   ],
   "source": [
    "# 1. Identificar colunas Numéricas e Categóricas (Nomes em português)\n",
    "numeric_features = ['idade', 'nivel_glicose_medio', 'imc']\n",
    "# Categóricas restantes após a remoção de 'genero'\n",
    "categorical_features = ['casado', 'tipo_trabalho', 'tipo_residencia', 'status_fumante', 'hipertensao', 'doenca_cardiaca']\n",
    "\n",
    "# 2. Criar os Transformadores (StandardScaler e OneHotEncoder)\n",
    "numeric_transformer = StandardScaler() \n",
    "categorical_transformer = OneHotEncoder(drop='first', handle_unknown='ignore', sparse_output=False) \n",
    "\n",
    "# 3. Combinar os transformadores (ColumnTransformer)\n",
    "preprocessor = ColumnTransformer(\n",
    "    transformers=[\n",
    "        ('num', numeric_transformer, numeric_features),\n",
    "        ('cat', categorical_transformer, categorical_features)\n",
    "    ],\n",
    "    remainder='passthrough'\n",
    ")\n",
    "\n",
    "# 4. Aplicação do Pré-processamento no Treino\n",
    "X_train_processed = preprocessor.fit_transform(X_train)\n",
    "\n",
    "# Obter os nomes das colunas transformadas \n",
    "feature_names = list(preprocessor.get_feature_names_out())\n",
    "\n",
    "# Converter para DataFrame para o SMOTE\n",
    "X_train_df = pd.DataFrame(X_train_processed, columns=feature_names)\n",
    "\n",
    "\n",
    "# ----------------------------------------------------\n",
    "# 5. Balanceamento de Classes (SMOTE)\n",
    "# ----------------------------------------------------\n",
    "smote = SMOTE(random_state=42)\n",
    "X_train_smote, y_train_smote = smote.fit_resample(X_train_df, y_train)\n",
    "\n",
    "print(\"\\n--- Resultado do Balanceamento SMOTE ---\")\n",
    "print(\"Dimensões do Treino após SMOTE:\", X_train_smote.shape)\n",
    "print(\"Proporção de AVC (1) no Treino após SMOTE (DEVE SER 50%):\")\n",
    "print(y_train_smote.value_counts(normalize=True))"
   ]
  },
  {
   "cell_type": "markdown",
   "id": "c31c474c",
   "metadata": {},
   "source": [
    "### 4.3 - Treinamento dos Modelos de Classificação\n",
    "Treinar a Regressão Logística, Random Forest e XGBoost no conjunto balanceado (X_train_smote)."
   ]
  },
  {
   "cell_type": "code",
   "execution_count": 94,
   "id": "2fb3e90d",
   "metadata": {},
   "outputs": [
    {
     "name": "stderr",
     "output_type": "stream",
     "text": [
      "d:\\UserData\\.virtualenvs\\backend-SSwBoP3o\\Lib\\site-packages\\xgboost\\training.py:183: UserWarning: [15:06:24] WARNING: C:\\actions-runner\\_work\\xgboost\\xgboost\\src\\learner.cc:738: \n",
      "Parameters: { \"use_label_encoder\" } are not used.\n",
      "\n",
      "  bst.update(dtrain, iteration=i, fobj=obj)\n"
     ]
    },
    {
     "name": "stdout",
     "output_type": "stream",
     "text": [
      "Modelos treinados com sucesso!\n",
      "Total de modelos treinados: 3\n"
     ]
    }
   ],
   "source": [
    "# Dicionário para armazenar todos os modelos treinados\n",
    "models = {}\n",
    "\n",
    "# 1. Regressão Logística (Logistic Regression)\n",
    "log_reg = LogisticRegression(solver='liblinear', random_state=42)\n",
    "log_reg.fit(X_train_smote, y_train_smote)\n",
    "models['Logistic Regression'] = log_reg\n",
    "\n",
    "# 2. Random Forest Classifier\n",
    "random_forest = RandomForestClassifier(n_estimators=100, random_state=42, class_weight='balanced')\n",
    "random_forest.fit(X_train_smote, y_train_smote)\n",
    "models['Random Forest'] = random_forest\n",
    "\n",
    "# 3. XGBoost Classifier\n",
    "xgb = XGBClassifier(use_label_encoder=False, eval_metric='logloss', random_state=42, scale_pos_weight=(y_train_smote.value_counts()[0]/y_train_smote.value_counts()[1]))\n",
    "xgb.fit(X_train_smote, y_train_smote)\n",
    "models['XGBoost'] = xgb\n",
    "\n",
    "print(\"Modelos treinados com sucesso!\")\n",
    "print(f\"Total de modelos treinados: {len(models)}\")"
   ]
  },
  {
   "cell_type": "markdown",
   "id": "0acf1b58",
   "metadata": {},
   "source": [
    "# Tarefa três: Avaliar e selecionar modelos de previsão.\n",
    "O objetivo é testar o desempenho dos modelos treinados em dados novos (X_test) para escolher o campeão."
   ]
  },
  {
   "cell_type": "markdown",
   "id": "05435da7",
   "metadata": {},
   "source": [
    "## 5 - Avaliação no Conjunto de Teste\n",
    "Aplicar o pré-processamento (preprocessor.transform()) em X_test e gerar previsões."
   ]
  },
  {
   "cell_type": "code",
   "execution_count": 95,
   "id": "dcd77c1f",
   "metadata": {},
   "outputs": [
    {
     "name": "stdout",
     "output_type": "stream",
     "text": [
      "Iniciando avaliação dos modelos no conjunto de teste...\n"
     ]
    }
   ],
   "source": [
    "# 1. Aplicar o Pré-processamento nos Dados de TESTE\n",
    "# Usamos 'transform' para aplicar as regras aprendidas no treino.\n",
    "X_test_processed = preprocessor.transform(X_test)\n",
    "\n",
    "# Converter o resultado para um DataFrame (para consistência)\n",
    "X_test_df = pd.DataFrame(X_test_processed, columns=feature_names)\n",
    "\n",
    "# 2. Dicionário para armazenar as métricas de cada modelo\n",
    "results = {}\n",
    "\n",
    "print(\"Iniciando avaliação dos modelos no conjunto de teste...\")\n"
   ]
  },
  {
   "cell_type": "markdown",
   "id": "0ac5f4d1",
   "metadata": {},
   "source": [
    "### 5.1 - Comparação de Métricas\n",
    "Calcular Sensibilidade, Especificidade, Precisão, F1-Score e AUC para cada modelo (requisito da rubrica)."
   ]
  },
  {
   "cell_type": "code",
   "execution_count": 96,
   "id": "3cfdac52",
   "metadata": {},
   "outputs": [
    {
     "name": "stdout",
     "output_type": "stream",
     "text": [
      "\n",
      "--- Tabela de Avaliação de Modelos (Ordenada por AUC) ---\n"
     ]
    },
    {
     "data": {
      "text/html": [
       "<div>\n",
       "<style scoped>\n",
       "    .dataframe tbody tr th:only-of-type {\n",
       "        vertical-align: middle;\n",
       "    }\n",
       "\n",
       "    .dataframe tbody tr th {\n",
       "        vertical-align: top;\n",
       "    }\n",
       "\n",
       "    .dataframe thead th {\n",
       "        text-align: right;\n",
       "    }\n",
       "</style>\n",
       "<table border=\"1\" class=\"dataframe\">\n",
       "  <thead>\n",
       "    <tr style=\"text-align: right;\">\n",
       "      <th></th>\n",
       "      <th>Accuracy</th>\n",
       "      <th>Precision</th>\n",
       "      <th>Recall (Sensibilidade)</th>\n",
       "      <th>Specificity</th>\n",
       "      <th>F1-Score</th>\n",
       "      <th>AUC</th>\n",
       "    </tr>\n",
       "  </thead>\n",
       "  <tbody>\n",
       "    <tr>\n",
       "      <th>Logistic Regression</th>\n",
       "      <td>0.729941</td>\n",
       "      <td>0.135484</td>\n",
       "      <td>0.84</td>\n",
       "      <td>0.724280</td>\n",
       "      <td>0.233333</td>\n",
       "      <td>0.837984</td>\n",
       "    </tr>\n",
       "    <tr>\n",
       "      <th>XGBoost</th>\n",
       "      <td>0.926614</td>\n",
       "      <td>0.209302</td>\n",
       "      <td>0.18</td>\n",
       "      <td>0.965021</td>\n",
       "      <td>0.193548</td>\n",
       "      <td>0.782922</td>\n",
       "    </tr>\n",
       "    <tr>\n",
       "      <th>Random Forest</th>\n",
       "      <td>0.926614</td>\n",
       "      <td>0.162162</td>\n",
       "      <td>0.12</td>\n",
       "      <td>0.968107</td>\n",
       "      <td>0.137931</td>\n",
       "      <td>0.757438</td>\n",
       "    </tr>\n",
       "  </tbody>\n",
       "</table>\n",
       "</div>"
      ],
      "text/plain": [
       "                     Accuracy  Precision  Recall (Sensibilidade)  Specificity  \\\n",
       "Logistic Regression  0.729941   0.135484                    0.84     0.724280   \n",
       "XGBoost              0.926614   0.209302                    0.18     0.965021   \n",
       "Random Forest        0.926614   0.162162                    0.12     0.968107   \n",
       "\n",
       "                     F1-Score       AUC  \n",
       "Logistic Regression  0.233333  0.837984  \n",
       "XGBoost              0.193548  0.782922  \n",
       "Random Forest        0.137931  0.757438  "
      ]
     },
     "metadata": {},
     "output_type": "display_data"
    }
   ],
   "source": [
    "from sklearn.metrics import accuracy_score, recall_score, precision_score, f1_score, roc_auc_score, confusion_matrix\n",
    "\n",
    "# Loop através de cada modelo treinado\n",
    "for name, model in models.items():\n",
    "    # Previsões de Classe (0 ou 1)\n",
    "    y_pred = model.predict(X_test_df)\n",
    "    \n",
    "    # Previsões de Probabilidade (necessário para a métrica AUC)\n",
    "    y_proba = model.predict_proba(X_test_df)[:, 1] \n",
    "    \n",
    "    # Calcular Métricas essenciais\n",
    "    accuracy = accuracy_score(y_test, y_pred)\n",
    "    precision = precision_score(y_test, y_pred, zero_division=0)\n",
    "    recall = recall_score(y_test, y_pred, zero_division=0) # Sensibilidade (Muito importante para AVC!)\n",
    "    f1 = f1_score(y_test, y_pred, zero_division=0)\n",
    "    roc_auc = roc_auc_score(y_test, y_proba) \n",
    "    \n",
    "    # Especificidade: De todos os que NÃO tiveram AVC, quantos o modelo acertou?\n",
    "    tn, fp, fn, tp = confusion_matrix(y_test, y_pred).ravel()\n",
    "    specificity = tn / (tn + fp)\n",
    "    \n",
    "    # Armazenar resultados\n",
    "    results[name] = {\n",
    "        'Accuracy': accuracy,\n",
    "        'Precision': precision,\n",
    "        'Recall (Sensibilidade)': recall,\n",
    "        'Specificity': specificity,\n",
    "        'F1-Score': f1,\n",
    "        'AUC': roc_auc\n",
    "    }\n",
    "\n",
    "# Exibir a Tabela de Resultados\n",
    "results_df = pd.DataFrame(results).T \n",
    "\n",
    "print(\"\\n--- Tabela de Avaliação de Modelos (Ordenada por AUC) ---\")\n",
    "display(results_df.sort_values(by='AUC', ascending=False))"
   ]
  },
  {
   "cell_type": "markdown",
   "id": "1e17e54f",
   "metadata": {},
   "source": [
    "### 5.2 - Visualização e Seleção do Melhor Modelo\n",
    "Criar um gráfico comparando as métricas (como você viu na prévia) e escolher o melhor modelo com base no AUC ou F1-Score."
   ]
  },
  {
   "cell_type": "code",
   "execution_count": 97,
   "id": "07d34198",
   "metadata": {},
   "outputs": [
    {
     "data": {
      "image/png": "[encoded data removed]",
      "text/plain": [
       "<Figure size 1200x600 with 1 Axes>"
      ]
     },
     "metadata": {},
     "output_type": "display_data"
    },
    {
     "name": "stdout",
     "output_type": "stream",
     "text": [
      "\n",
      "O modelo selecionado para implantação é: Logistic Regression (AUC: 0.8380)\n"
     ]
    }
   ],
   "source": [
    "### 5.2 Visualização e Seleção do Melhor Modelo\n",
    "\n",
    "# 1. Visualizar a comparação de métricas (requisito da rubrica)\n",
    "results_df.T.plot(kind='bar', figsize=(12, 6))\n",
    "plt.title('Comparação de Métricas de Desempenho no Conjunto de Teste')\n",
    "plt.ylabel('Score')\n",
    "plt.xticks(rotation=45, ha='right')\n",
    "plt.legend(bbox_to_anchor=(1.05, 1), loc='upper left')\n",
    "plt.grid(axis='y', alpha=0.5)\n",
    "plt.show()\n",
    "\n",
    "# 2. Seleção Formal do Modelo\n",
    "# Escolhemos o modelo com o melhor AUC, pois mede a melhor capacidade geral de distinção.\n",
    "best_model_name = results_df['AUC'].idxmax()\n",
    "best_model = models[best_model_name]\n",
    "\n",
    "print(f\"\\nO modelo selecionado para implantação é: {best_model_name} (AUC: {results_df['AUC'].max():.4f})\")"
   ]
  },
  {
   "cell_type": "markdown",
   "id": "9e150396",
   "metadata": {},
   "source": [
    "# Tarefa Quatro: Implantar o modelo de previsão\n",
    "O objetivo é demonstrar a utilidade do modelo escolhido, simulando seu uso no mundo real."
   ]
  },
  {
   "cell_type": "markdown",
   "id": "794349a4",
   "metadata": {},
   "source": [
    "## 6 - Implementação e Salvamento do Modelo\n",
    "Salvar o modelo campeão no disco (usando joblib ou pickle)."
   ]
  },
  {
   "cell_type": "code",
   "execution_count": 98,
   "id": "bce55924",
   "metadata": {},
   "outputs": [
    {
     "name": "stdout",
     "output_type": "stream",
     "text": [
      "Modelo Campeão (Logistic Regression) e Pré-processador salvos com sucesso no diretório 'output/'\n"
     ]
    }
   ],
   "source": [
    "### 6. Salvamento do Modelo Campeão (para uso futuro)\n",
    "\n",
    "import joblib\n",
    "\n",
    "# Identificamos o nome do modelo com o melhor AUC\n",
    "best_model_name = results_df['AUC'].idxmax()\n",
    "best_model = models[best_model_name]\n",
    "\n",
    "# Define o nome do arquivo, usando o nome do modelo para clareza\n",
    "# O arquivo será salvo na pasta 'output/'\n",
    "model_filename = f'../output/{best_model_name.replace(\" \", \"_\").lower()}_stroke_model.joblib'\n",
    "\n",
    "# Salva o modelo no disco\n",
    "joblib.dump(best_model, model_filename)\n",
    "\n",
    "# Também salvamos o pré-processador! É VITAL para transformar novos dados corretamente na hora do deploy.\n",
    "preprocessor_filename = '../output/preprocessor.joblib'\n",
    "joblib.dump(preprocessor, preprocessor_filename)\n",
    "\n",
    "\n",
    "print(f\"Modelo Campeão ({best_model_name}) e Pré-processador salvos com sucesso no diretório 'output/'\")"
   ]
  },
  {
   "cell_type": "markdown",
   "id": "2d94236f",
   "metadata": {},
   "source": [
    "### 6.1 - Simulação de Previsão em Novo Paciente"
   ]
  },
  {
   "cell_type": "markdown",
   "id": "cdf53fe1",
   "metadata": {},
   "source": [
    "Criar um exemplo de input e demonstrar como o modelo calcula a probabilidade de AVC (Simulação de API/Frontend)."
   ]
  },
  {
   "cell_type": "code",
   "execution_count": 100,
   "id": "6542d8cc",
   "metadata": {},
   "outputs": [
    {
     "name": "stdout",
     "output_type": "stream",
     "text": [
      "--- Previsão de Risco para Novo Paciente ---\n",
      "Modelo Usado: Logistic Regression\n",
      "Probabilidade Calculada de AVC: 89.60%\n",
      "\n",
      "Recomendação: ALTO RISCO! Intervenção e monitoramento clínico imediato são necessários.\n"
     ]
    }
   ],
   "source": [
    "# 1. Definir os dados de um novo paciente (Exemplo de Alto Risco)\n",
    "# Usando os nomes das colunas em português:\n",
    "new_patient_data = {\n",
    "    'idade': [68.0],\n",
    "    'hipertensao': [1],        # 1 = Tem Hipertensão\n",
    "    'doenca_cardiaca': [1],       # 1 = Tem Doença Cardíaca\n",
    "    'casado': ['Yes'],\n",
    "    'tipo_trabalho': ['Private'],\n",
    "    'tipo_residencia': ['Urban'],\n",
    "    'nivel_glicose_medio': [220.0], # Glicose alta\n",
    "    'imc': [30.0],\n",
    "    'status_fumante': ['smokes']\n",
    "}\n",
    "\n",
    "# Converte os dados para o formato DataFrame (o formato esperado pelo pré-processador)\n",
    "new_patient_df = pd.DataFrame(new_patient_data)\n",
    "\n",
    "\n",
    "# 2. Aplicar o Pré-processador Salvo nos dados do novo paciente\n",
    "# O pré-processador é aplicado APENAS com .transform()\n",
    "# O 'preprocessor' e 'best_model' ainda estão na memória do Jupyter da Task 3.\n",
    "new_patient_processed = preprocessor.transform(new_patient_df)\n",
    "\n",
    "# Converte para DataFrame usando feature_names para garantir a ordem das colunas\n",
    "# O 'feature_names' foi definido na seção 4.2.\n",
    "new_patient_X = pd.DataFrame(new_patient_processed, columns=feature_names)\n",
    "\n",
    "\n",
    "# 3. Fazer a Previsão\n",
    "# Identificamos o modelo campeão (que teve o melhor AUC na Task 3)\n",
    "best_model_name = results_df['AUC'].idxmax()\n",
    "best_model = models[best_model_name]\n",
    "\n",
    "# Usamos o modelo campeão para prever a probabilidade.\n",
    "probability_stroke = best_model.predict_proba(new_patient_X)[:, 1][0]\n",
    "\n",
    "\n",
    "# 4. Exibir o Resultado\n",
    "print(f\"--- Previsão de Risco para Novo Paciente ---\")\n",
    "print(f\"Modelo Usado: {best_model_name}\")\n",
    "print(f\"Probabilidade Calculada de AVC: {probability_stroke * 100:.2f}%\")\n",
    "\n",
    "if probability_stroke > 0.5:\n",
    "    print(\"\\nRecomendação: ALTO RISCO! Intervenção e monitoramento clínico imediato são necessários.\")\n",
    "else:\n",
    "    print(\"\\nRisco baixo/médio. Monitoramento e medidas preventivas são recomendadas.\")"
   ]
  },
  {
   "cell_type": "markdown",
   "id": "36b48f98",
   "metadata": {},
   "source": [
    "# Tarefa Cinco: Resultados e Conclusões\n",
    "O objetivo é comunicar as descobertas de forma clara e profissional."
   ]
  },
  {
   "cell_type": "markdown",
   "id": "924d58c1",
   "metadata": {},
   "source": [
    "### 7 - Análise da Importância das Características (Feature Importance)\n",
    "Identificar os fatores que mais contribuem para o risco de AVC é crucial para guiar as medidas preventivas clínicas. Usaremos o modelo **Random Forest** para analisar a importância das features."
   ]
  },
  {
   "cell_type": "code",
   "execution_count": 101,
   "id": "d9b83786",
   "metadata": {},
   "outputs": [
    {
     "name": "stderr",
     "output_type": "stream",
     "text": [
      "C:\\Users\\Amaro\\AppData\\Local\\Temp\\ipykernel_4220\\2975955545.py:44: FutureWarning: \n",
      "\n",
      "Passing `palette` without assigning `hue` is deprecated and will be removed in v0.14.0. Assign the `y` variable to `hue` and set `legend=False` for the same effect.\n",
      "\n",
      "  sns.barplot(x='Importance', y='Feature Limpa', data=feature_importance_df.head(10), palette='viridis')\n"
     ]
    },
    {
     "data": {
      "image/png": "[encoded data removed]",
      "text/plain": [
       "<Figure size 1000x600 with 1 Axes>"
      ]
     },
     "metadata": {},
     "output_type": "display_data"
    },
    {
     "name": "stdout",
     "output_type": "stream",
     "text": [
      "--- Top 5 Fatores Mais Importantes para Previsão de AVC ---\n"
     ]
    },
    {
     "data": {
      "text/html": [
       "<div>\n",
       "<style scoped>\n",
       "    .dataframe tbody tr th:only-of-type {\n",
       "        vertical-align: middle;\n",
       "    }\n",
       "\n",
       "    .dataframe tbody tr th {\n",
       "        vertical-align: top;\n",
       "    }\n",
       "\n",
       "    .dataframe thead th {\n",
       "        text-align: right;\n",
       "    }\n",
       "</style>\n",
       "<table border=\"1\" class=\"dataframe\">\n",
       "  <thead>\n",
       "    <tr style=\"text-align: right;\">\n",
       "      <th></th>\n",
       "      <th>Feature Limpa</th>\n",
       "      <th>Importance</th>\n",
       "    </tr>\n",
       "  </thead>\n",
       "  <tbody>\n",
       "    <tr>\n",
       "      <th>0</th>\n",
       "      <td>idade</td>\n",
       "      <td>0.373212</td>\n",
       "    </tr>\n",
       "    <tr>\n",
       "      <th>1</th>\n",
       "      <td>nivel_glicose_medio</td>\n",
       "      <td>0.136734</td>\n",
       "    </tr>\n",
       "    <tr>\n",
       "      <th>2</th>\n",
       "      <td>imc</td>\n",
       "      <td>0.132331</td>\n",
       "    </tr>\n",
       "    <tr>\n",
       "      <th>12</th>\n",
       "      <td>hipertensao_1</td>\n",
       "      <td>0.063576</td>\n",
       "    </tr>\n",
       "    <tr>\n",
       "      <th>3</th>\n",
       "      <td>casado_Yes</td>\n",
       "      <td>0.061733</td>\n",
       "    </tr>\n",
       "  </tbody>\n",
       "</table>\n",
       "</div>"
      ],
      "text/plain": [
       "          Feature Limpa  Importance\n",
       "0                 idade    0.373212\n",
       "1   nivel_glicose_medio    0.136734\n",
       "2                   imc    0.132331\n",
       "12        hipertensao_1    0.063576\n",
       "3            casado_Yes    0.061733"
      ]
     },
     "metadata": {},
     "output_type": "display_data"
    }
   ],
   "source": [
    "## 7. Análise da Importância das Características (Feature Importance)\n",
    "\n",
    "# 1. Obter o modelo Random Forest treinado\n",
    "rf_model = models['Random Forest']\n",
    "\n",
    "# 2. Obter a importância das features\n",
    "importance = rf_model.feature_importances_\n",
    "\n",
    "# 3. Criar um DataFrame com os nomes originais e a importância\n",
    "feature_importance_df = pd.DataFrame({\n",
    "    'Feature': feature_names,\n",
    "    'Importance': importance\n",
    "})\n",
    "\n",
    "# 4. Criar um mapeamento para limpar os nomes das colunas\n",
    "# Este mapeamento transforma os nomes confusos criados pelo OneHotEncoder em algo legível.\n",
    "name_mapping = {\n",
    "    'num__': '', # Remove o prefixo de Padronização\n",
    "    'cat__': '', # Remove o prefixo de Categoria\n",
    "    'ever_married_Yes': 'Casado (Sim)',\n",
    "    'work_type_Private': 'Trabalho: Privado',\n",
    "    'work_type_Self_employed': 'Trabalho: Autônomo',\n",
    "    'work_type_children': 'Trabalho: Criança',\n",
    "    'work_type_Govt_job': 'Trabalho: Governo',\n",
    "    'Residence_type_Urban': 'Residência: Urbana',\n",
    "    'smoking_status_formerly smoked': 'Fumava Antes',\n",
    "    'smoking_status_smokes': 'Fuma Atualmente',\n",
    "    'smoking_status_Unknown': 'Status Fumo: Desconhecido',\n",
    "    'hypertension_1': 'Hipertensão (Sim)',\n",
    "    'heart_disease_1': 'Doença Cardíaca (Sim)',\n",
    "    'age': 'Idade',\n",
    "    'avg_glucose_level': 'Nível de Glicose Médio',\n",
    "    'bmi': 'Índice de Massa Corporal (BMI)'\n",
    "}\n",
    "\n",
    "# 5. Aplicar o mapeamento para limpar os nomes das features\n",
    "feature_importance_df['Feature Limpa'] = feature_importance_df['Feature'].replace(name_mapping, regex=True)\n",
    "\n",
    "# 6. Ordenar e Visualizar (usando os nomes limpos)\n",
    "feature_importance_df = feature_importance_df.sort_values(by='Importance', ascending=False)\n",
    "\n",
    "# 7. Visualizar as 10 Features mais importantes (com nomes limpos)\n",
    "plt.figure(figsize=(10, 6))\n",
    "sns.barplot(x='Importance', y='Feature Limpa', data=feature_importance_df.head(10), palette='viridis')\n",
    "plt.title('Top 10 Fatores de Risco (Importância do Random Forest)', fontsize=14)\n",
    "plt.xlabel('Importância (Peso no Modelo)')\n",
    "plt.ylabel('Fator de Risco')\n",
    "plt.show()\n",
    "\n",
    "# Exibir os principais\n",
    "print(\"--- Top 5 Fatores Mais Importantes para Previsão de AVC ---\")\n",
    "display(feature_importance_df[['Feature Limpa', 'Importance']].head(5))"
   ]
  },
  {
   "cell_type": "markdown",
   "id": "37b306b8",
   "metadata": {},
   "source": [
    "## 7.1 Conclusões e Recomendações Finais\n",
    "Com base na Análise Exploratória, na Avaliação do Modelo e na Importância das Features, tiramos as seguintes conclusões:"
   ]
  },
  {
   "cell_type": "markdown",
   "id": "f46544ef",
   "metadata": {},
   "source": [
    "### Conclusão 1: Seleção do Modelo para Implantação\n",
    "O modelo **{best_model_name}** foi selecionado por apresentar a melhor performance geral (AUC de {results_df['AUC'].max():.4f}) e um equilíbrio satisfatório entre Sensibilidade (detectar AVCs) e Especificidade (confirmar não-AVCs).\n",
    "\n",
    "### Conclusão 2: Fatores de Risco Prioritários\n",
    "A **Idade**, **Nível de Glicose** e a presença de **Doenças Cardíacas** (conforme mostrado no Feature Importance) são os fatores mais determinantes no risco de AVC. Isso alinha o modelo com o conhecimento médico existente.\n",
    "\n",
    "### Recomendações Clínicas (Próximos Passos):\n",
    "1.  **Foco em Pacientes de Alto Risco:** O modelo deve ser integrado para rastrear pacientes acima de 60 anos com Glicose Média elevada (avg_glucose_level) ou histórico de Doença Cardíaca. Estes grupos devem receber atenção e intervenção preventiva imediata.\n",
    "2.  **Validação Contínua:** Antes da integração completa no sistema, o modelo deve passar por uma validação clínica rigorosa com novos dados de pacientes.\n",
    "3.  **Melhoria do Modelo:** Pesquisas futuras devem focar em coletar mais dados da classe minoritária (casos de AVC) para aprimorar a Sensibilidade do modelo.\n",
    "\n",
    "O projeto demonstra que o Machine Learning pode ser uma ferramenta valiosa para identificar pacientes em risco e otimizar a alocação de recursos preventivos da organização."
   ]
  }
 ],
 "metadata": {
  "kernelspec": {
   "display_name": "backend-SSwBoP3o",
   "language": "python",
   "name": "python3"
  },
  "language_info": {
   "codemirror_mode": {
    "name": "ipython",
    "version": 3
   },
   "file_extension": ".py",
   "mimetype": "text/x-python",
   "name": "python",
   "nbconvert_exporter": "python",
   "pygments_lexer": "ipython3",
   "version": "3.11.9"
  }
 },
 "nbformat": 4,
 "nbformat_minor": 5
}
