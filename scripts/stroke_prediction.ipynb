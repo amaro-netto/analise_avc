{
 "cells": [
  {
   "cell_type": "markdown",
   "id": "d29019de",
   "metadata": {},
   "source": [
    "# Projeto de Previsão de Acidente Vascular Cerebral (AVC) com Python"
   ]
  },
  {
   "cell_type": "markdown",
   "id": "54d05c02",
   "metadata": {},
   "source": [
    "Este notebook realiza a análise completa para a construção e avaliação de um modelo preditivo de AVC, seguindo a rubrica de Machine Learning para a área da saúde."
   ]
  },
  {
   "cell_type": "markdown",
   "id": "9bfdc687",
   "metadata": {},
   "source": [
    "# Task One: Import data and data preprocessing"
   ]
  },
  {
   "cell_type": "markdown",
   "id": "26e26b05",
   "metadata": {},
   "source": [
    "## Load data and install packages"
   ]
  },
  {
   "cell_type": "code",
   "execution_count": 2,
   "id": "936d1086",
   "metadata": {},
   "outputs": [
    {
     "ename": "ModuleNotFoundError",
     "evalue": "No module named 'pandas'",
     "output_type": "error",
     "traceback": [
      "\u001b[31m---------------------------------------------------------------------------\u001b[39m",
      "\u001b[31mModuleNotFoundError\u001b[39m                       Traceback (most recent call last)",
      "\u001b[36mCell\u001b[39m\u001b[36m \u001b[39m\u001b[32mIn[2]\u001b[39m\u001b[32m, line 4\u001b[39m\n\u001b[32m      1\u001b[39m \u001b[38;5;66;03m# Importação das bibliotecas essenciais para Ciência de Dados em Python\u001b[39;00m\n\u001b[32m      2\u001b[39m \n\u001b[32m      3\u001b[39m \u001b[38;5;66;03m# Pandas: A biblioteca principal para carregar, manipular e limpar dados (nosso 'tidyverse' do Python)\u001b[39;00m\n\u001b[32m----> \u001b[39m\u001b[32m4\u001b[39m \u001b[38;5;28;01mimport\u001b[39;00m\u001b[38;5;250m \u001b[39m\u001b[34;01mpandas\u001b[39;00m\u001b[38;5;250m \u001b[39m\u001b[38;5;28;01mas\u001b[39;00m\u001b[38;5;250m \u001b[39m\u001b[34;01mpd\u001b[39;00m \n\u001b[32m      5\u001b[39m \u001b[38;5;66;03m# NumPy: Usado para operações numéricas e arrays\u001b[39;00m\n\u001b[32m      6\u001b[39m \u001b[38;5;28;01mimport\u001b[39;00m\u001b[38;5;250m \u001b[39m\u001b[34;01mnumpy\u001b[39;00m\u001b[38;5;250m \u001b[39m\u001b[38;5;28;01mas\u001b[39;00m\u001b[38;5;250m \u001b[39m\u001b[34;01mnp\u001b[39;00m \n",
      "\u001b[31mModuleNotFoundError\u001b[39m: No module named 'pandas'"
     ]
    }
   ],
   "source": [
    "# Importação das bibliotecas essenciais para Ciência de Dados em Python\n",
    "\n",
    "# Pandas: A biblioteca principal para carregar, manipular e limpar dados (nosso 'tidyverse' do Python)\n",
    "import pandas as pd \n",
    "# NumPy: Usado para operações numéricas e arrays\n",
    "import numpy as np \n",
    "# Matplotlib/Seaborn: Usados para visualização de dados (criação de gráficos). Seaborn é ótimo para estatística.\n",
    "import matplotlib.pyplot as plt\n",
    "import seaborn as sns\n",
    "\n",
    "# Sklearn: É a biblioteca padrão para Machine Learning em Python\n",
    "from sklearn.model_selection import train_test_split\n",
    "from imblearn.over_sampling import SMOTE \n",
    "from sklearn.preprocessing import StandardScaler, OneHotEncoder\n",
    "from sklearn.compose import ColumnTransformer\n",
    "from sklearn.pipeline import Pipeline\n",
    "from sklearn.linear_model import LogisticRegression\n",
    "from sklearn.ensemble import RandomForestClassifier\n",
    "from xgboost import XGBClassifier\n",
    "\n",
    "# Define o caminho do arquivo\n",
    "file_path = '../data/healthcare-dataset-stroke-data.csv'\n",
    "\n",
    "# Lê o arquivo CSV para um DataFrame do Pandas (df)\n",
    "df = pd.read_csv(file_path)\n",
    "\n",
    "# Mostra as primeiras 5 linhas para verificar se o carregamento funcionou\n",
    "print(\"--- Primeiras 5 linhas do Dataset ---\")\n",
    "display(df.head())"
   ]
  },
  {
   "cell_type": "markdown",
   "id": "d802b75f",
   "metadata": {},
   "source": [
    "## Describe and explore the data"
   ]
  },
  {
   "cell_type": "code",
   "execution_count": null,
   "id": "919383e2",
   "metadata": {},
   "outputs": [],
   "source": [
    "# Remove a coluna 'id' imediatamente, pois não é útil para a previsão\n",
    "df = df.drop('id', axis=1)\n",
    "\n",
    "# --- EXPLORAÇÃO INICIAL: Estrutura e Tipos de Dados ---\n",
    "print(\"--- Estrutura e Tipos de Dados ---\")\n",
    "df.info()\n",
    "\n",
    "# --- VERIFICAÇÃO DE VALORES AUSENTES (NA) ---\n",
    "# .isnull() verifica onde há NA e .sum() soma quantos há por coluna\n",
    "print(\"\\n--- Contagem de Valores Ausentes (NA) ---\")\n",
    "print(df.isnull().sum())"
   ]
  },
  {
   "cell_type": "markdown",
   "id": "d60ed27b",
   "metadata": {},
   "source": [
    "## Limpeza e Imputação de Dados"
   ]
  },
  {
   "cell_type": "markdown",
   "id": "0be866a1",
   "metadata": {},
   "source": [
    "# Task Two: Build prediction models"
   ]
  },
  {
   "cell_type": "markdown",
   "id": "7c9c5c0b",
   "metadata": {},
   "source": [
    "## 4. Particionamento e Preparação dos Dados\n"
   ]
  },
  {
   "cell_type": "markdown",
   "id": "05435da7",
   "metadata": {},
   "source": [
    "## 5. Treinamento dos Modelos"
   ]
  },
  {
   "cell_type": "markdown",
   "id": "9aeb8ffb",
   "metadata": {},
   "source": [
    "# Task Three: Evaluate and select prediction models"
   ]
  },
  {
   "cell_type": "markdown",
   "id": "8cfacdfa",
   "metadata": {},
   "source": [
    "# Task Four: Deploy the prediction model"
   ]
  },
  {
   "cell_type": "markdown",
   "metadata": {},
   "source": [
    "# Task Five: Findings and Conclusions"
   ]
  }
 ],
 "metadata": {
  "kernelspec": {
   "display_name": "Python 3",
   "language": "python",
   "name": "python3"
  },
  "language_info": {
   "codemirror_mode": {
    "name": "ipython",
    "version": 3
   },
   "file_extension": ".py",
   "mimetype": "text/x-python",
   "name": "python",
   "nbconvert_exporter": "python",
   "pygments_lexer": "ipython3",
   "version": "3.11.9"
  }
 },
 "nbformat": 4,
 "nbformat_minor": 5
}
