{
 "cells": [
  {
   "cell_type": "markdown",
   "id": "d29019de",
   "metadata": {},
   "source": [
    "# Projeto de Previsão de Acidente Vascular Cerebral (AVC) com Python"
   ]
  },
  {
   "cell_type": "markdown",
   "id": "54d05c02",
   "metadata": {},
   "source": [
    "Este notebook realiza a análise completa para a construção e avaliação de um modelo preditivo de AVC, seguindo a rubrica de Machine Learning para a área da saúde."
   ]
  },
  {
   "cell_type": "markdown",
   "id": "9bfdc687",
   "metadata": {},
   "source": [
    "# Tarefa Um: Importação de dados e pré-processamento de dados"
   ]
  },
  {
   "cell_type": "markdown",
   "id": "26e26b05",
   "metadata": {},
   "source": [
    "## Carregar dados e instalar pacotes"
   ]
  },
  {
   "cell_type": "code",
   "execution_count": 5,
   "id": "936d1086",
   "metadata": {},
   "outputs": [
    {
     "name": "stdout",
     "output_type": "stream",
     "text": [
      "--- Primeiras 5 linhas do Dataset ---\n"
     ]
    },
    {
     "data": {
      "text/html": [
       "<div>\n",
       "<style scoped>\n",
       "    .dataframe tbody tr th:only-of-type {\n",
       "        vertical-align: middle;\n",
       "    }\n",
       "\n",
       "    .dataframe tbody tr th {\n",
       "        vertical-align: top;\n",
       "    }\n",
       "\n",
       "    .dataframe thead th {\n",
       "        text-align: right;\n",
       "    }\n",
       "</style>\n",
       "<table border=\"1\" class=\"dataframe\">\n",
       "  <thead>\n",
       "    <tr style=\"text-align: right;\">\n",
       "      <th></th>\n",
       "      <th>id</th>\n",
       "      <th>gender</th>\n",
       "      <th>age</th>\n",
       "      <th>hypertension</th>\n",
       "      <th>heart_disease</th>\n",
       "      <th>ever_married</th>\n",
       "      <th>work_type</th>\n",
       "      <th>Residence_type</th>\n",
       "      <th>avg_glucose_level</th>\n",
       "      <th>bmi</th>\n",
       "      <th>smoking_status</th>\n",
       "      <th>stroke</th>\n",
       "    </tr>\n",
       "  </thead>\n",
       "  <tbody>\n",
       "    <tr>\n",
       "      <th>0</th>\n",
       "      <td>9046</td>\n",
       "      <td>Male</td>\n",
       "      <td>67.0</td>\n",
       "      <td>0</td>\n",
       "      <td>1</td>\n",
       "      <td>Yes</td>\n",
       "      <td>Private</td>\n",
       "      <td>Urban</td>\n",
       "      <td>228.69</td>\n",
       "      <td>36.6</td>\n",
       "      <td>formerly smoked</td>\n",
       "      <td>1</td>\n",
       "    </tr>\n",
       "    <tr>\n",
       "      <th>1</th>\n",
       "      <td>51676</td>\n",
       "      <td>Female</td>\n",
       "      <td>61.0</td>\n",
       "      <td>0</td>\n",
       "      <td>0</td>\n",
       "      <td>Yes</td>\n",
       "      <td>Self-employed</td>\n",
       "      <td>Rural</td>\n",
       "      <td>202.21</td>\n",
       "      <td>NaN</td>\n",
       "      <td>never smoked</td>\n",
       "      <td>1</td>\n",
       "    </tr>\n",
       "    <tr>\n",
       "      <th>2</th>\n",
       "      <td>31112</td>\n",
       "      <td>Male</td>\n",
       "      <td>80.0</td>\n",
       "      <td>0</td>\n",
       "      <td>1</td>\n",
       "      <td>Yes</td>\n",
       "      <td>Private</td>\n",
       "      <td>Rural</td>\n",
       "      <td>105.92</td>\n",
       "      <td>32.5</td>\n",
       "      <td>never smoked</td>\n",
       "      <td>1</td>\n",
       "    </tr>\n",
       "    <tr>\n",
       "      <th>3</th>\n",
       "      <td>60182</td>\n",
       "      <td>Female</td>\n",
       "      <td>49.0</td>\n",
       "      <td>0</td>\n",
       "      <td>0</td>\n",
       "      <td>Yes</td>\n",
       "      <td>Private</td>\n",
       "      <td>Urban</td>\n",
       "      <td>171.23</td>\n",
       "      <td>34.4</td>\n",
       "      <td>smokes</td>\n",
       "      <td>1</td>\n",
       "    </tr>\n",
       "    <tr>\n",
       "      <th>4</th>\n",
       "      <td>1665</td>\n",
       "      <td>Female</td>\n",
       "      <td>79.0</td>\n",
       "      <td>1</td>\n",
       "      <td>0</td>\n",
       "      <td>Yes</td>\n",
       "      <td>Self-employed</td>\n",
       "      <td>Rural</td>\n",
       "      <td>174.12</td>\n",
       "      <td>24.0</td>\n",
       "      <td>never smoked</td>\n",
       "      <td>1</td>\n",
       "    </tr>\n",
       "  </tbody>\n",
       "</table>\n",
       "</div>"
      ],
      "text/plain": [
       "      id  gender   age  hypertension  heart_disease ever_married  \\\n",
       "0   9046    Male  67.0             0              1          Yes   \n",
       "1  51676  Female  61.0             0              0          Yes   \n",
       "2  31112    Male  80.0             0              1          Yes   \n",
       "3  60182  Female  49.0             0              0          Yes   \n",
       "4   1665  Female  79.0             1              0          Yes   \n",
       "\n",
       "       work_type Residence_type  avg_glucose_level   bmi   smoking_status  \\\n",
       "0        Private          Urban             228.69  36.6  formerly smoked   \n",
       "1  Self-employed          Rural             202.21   NaN     never smoked   \n",
       "2        Private          Rural             105.92  32.5     never smoked   \n",
       "3        Private          Urban             171.23  34.4           smokes   \n",
       "4  Self-employed          Rural             174.12  24.0     never smoked   \n",
       "\n",
       "   stroke  \n",
       "0       1  \n",
       "1       1  \n",
       "2       1  \n",
       "3       1  \n",
       "4       1  "
      ]
     },
     "metadata": {},
     "output_type": "display_data"
    }
   ],
   "source": [
    "# Importação das bibliotecas essenciais para Ciência de Dados em Python\n",
    "\n",
    "# Pandas: A biblioteca principal para carregar, manipular e limpar dados (nosso 'tidyverse' do Python)\n",
    "import pandas as pd \n",
    "# NumPy: Usado para operações numéricas e arrays\n",
    "import numpy as np \n",
    "# Matplotlib/Seaborn: Usados para visualização de dados (criação de gráficos). Seaborn é ótimo para estatística.\n",
    "import matplotlib.pyplot as plt\n",
    "import seaborn as sns\n",
    "\n",
    "# Sklearn: É a biblioteca padrão para Machine Learning em Python\n",
    "from sklearn.model_selection import train_test_split\n",
    "from imblearn.over_sampling import SMOTE \n",
    "from sklearn.preprocessing import StandardScaler, OneHotEncoder\n",
    "from sklearn.compose import ColumnTransformer\n",
    "from sklearn.pipeline import Pipeline\n",
    "from sklearn.linear_model import LogisticRegression\n",
    "from sklearn.ensemble import RandomForestClassifier\n",
    "from xgboost import XGBClassifier\n",
    "\n",
    "# Define o caminho do arquivo\n",
    "file_path = '../data/healthcare-dataset-stroke-data.csv'\n",
    "\n",
    "# Lê o arquivo CSV para um DataFrame do Pandas (df)\n",
    "df = pd.read_csv(file_path)\n",
    "\n",
    "# Mostra as primeiras 5 linhas para verificar se o carregamento funcionou\n",
    "print(\"--- Primeiras 5 linhas do Dataset ---\")\n",
    "display(df.head())"
   ]
  },
  {
   "cell_type": "markdown",
   "id": "d802b75f",
   "metadata": {},
   "source": [
    "## Descreva e explore os dados"
   ]
  },
  {
   "cell_type": "code",
   "execution_count": 9,
   "id": "919383e2",
   "metadata": {},
   "outputs": [
    {
     "name": "stdout",
     "output_type": "stream",
     "text": [
      "A coluna 'id' não foi encontrada, seguindo com o DataFrame original.\n",
      "--- Estrutura e Tipos de Dados ---\n",
      "<class 'pandas.core.frame.DataFrame'>\n",
      "RangeIndex: 5110 entries, 0 to 5109\n",
      "Data columns (total 11 columns):\n",
      " #   Column             Non-Null Count  Dtype  \n",
      "---  ------             --------------  -----  \n",
      " 0   gender             5110 non-null   object \n",
      " 1   age                5110 non-null   float64\n",
      " 2   hypertension       5110 non-null   int64  \n",
      " 3   heart_disease      5110 non-null   int64  \n",
      " 4   ever_married       5110 non-null   object \n",
      " 5   work_type          5110 non-null   object \n",
      " 6   Residence_type     5110 non-null   object \n",
      " 7   avg_glucose_level  5110 non-null   float64\n",
      " 8   bmi                4909 non-null   float64\n",
      " 9   smoking_status     5110 non-null   object \n",
      " 10  stroke             5110 non-null   int64  \n",
      "dtypes: float64(3), int64(3), object(5)\n",
      "memory usage: 439.3+ KB\n",
      "\n",
      "--- Contagem de Valores Ausentes (NA) ---\n",
      "gender                 0\n",
      "age                    0\n",
      "hypertension           0\n",
      "heart_disease          0\n",
      "ever_married           0\n",
      "work_type              0\n",
      "Residence_type         0\n",
      "avg_glucose_level      0\n",
      "bmi                  201\n",
      "smoking_status         0\n",
      "stroke                 0\n",
      "dtype: int64\n"
     ]
    }
   ],
   "source": [
    "# Remove a coluna 'id' imediatamente se ela existir, embora tenhamos confirmado que ela não existe.\n",
    "# O bloco 'try/except' garante que o código não quebre se a coluna não for encontrada (boa prática!)\n",
    "try:\n",
    "    df = df.drop('id', axis=1)\n",
    "except KeyError:\n",
    "    print(\"A coluna 'id' não foi encontrada, seguindo com o DataFrame original.\")\n",
    "\n",
    "# --- EXPLORAÇÃO INICIAL: Estrutura e Tipos de Dados ---\n",
    "print(\"--- Estrutura e Tipos de Dados ---\")\n",
    "# .info() fornece um resumo: número de linhas, colunas e, o mais importante,\n",
    "# o tipo de dado de cada coluna (float, int, object) e a contagem de valores não-nulos.\n",
    "df.info()\n",
    "\n",
    "# --- VERIFICAÇÃO DE VALORES AUSENTES (NA) ---\n",
    "# O .isnull() verifica onde há NA (retorna True/False) e .sum() soma quantos há por coluna\n",
    "print(\"\\n--- Contagem de Valores Ausentes (NA) ---\")\n",
    "print(df.isnull().sum())"
   ]
  },
  {
   "cell_type": "markdown",
   "id": "d60ed27b",
   "metadata": {},
   "source": [
    "## Limpeza e Imputação de Dados"
   ]
  },
  {
   "cell_type": "markdown",
   "id": "0be866a1",
   "metadata": {},
   "source": [
    "# Task Two: Build prediction models"
   ]
  },
  {
   "cell_type": "markdown",
   "id": "7c9c5c0b",
   "metadata": {},
   "source": [
    "## 4. Particionamento e Preparação dos Dados\n"
   ]
  },
  {
   "cell_type": "markdown",
   "id": "05435da7",
   "metadata": {},
   "source": [
    "## 5. Treinamento dos Modelos"
   ]
  },
  {
   "cell_type": "markdown",
   "id": "9aeb8ffb",
   "metadata": {},
   "source": [
    "# Task Three: Evaluate and select prediction models"
   ]
  },
  {
   "cell_type": "markdown",
   "id": "8cfacdfa",
   "metadata": {},
   "source": [
    "# Task Four: Deploy the prediction model"
   ]
  },
  {
   "cell_type": "markdown",
   "metadata": {},
   "source": [
    "# Task Five: Findings and Conclusions"
   ]
  }
 ],
 "metadata": {
  "kernelspec": {
   "display_name": "backend-SSwBoP3o",
   "language": "python",
   "name": "python3"
  },
  "language_info": {
   "codemirror_mode": {
    "name": "ipython",
    "version": 3
   },
   "file_extension": ".py",
   "mimetype": "text/x-python",
   "name": "python",
   "nbconvert_exporter": "python",
   "pygments_lexer": "ipython3",
   "version": "3.11.9"
  }
 },
 "nbformat": 4,
 "nbformat_minor": 5
}
